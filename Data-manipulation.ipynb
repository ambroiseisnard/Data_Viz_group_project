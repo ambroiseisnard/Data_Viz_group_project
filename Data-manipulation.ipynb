{
 "cells": [
  {
   "cell_type": "code",
   "execution_count": 1,
   "metadata": {
    "ExecuteTime": {
     "end_time": "2019-10-30T14:48:31.672796Z",
     "start_time": "2019-10-30T14:48:30.810689Z"
    }
   },
   "outputs": [],
   "source": [
    "# Set Up \n",
    "import pandas as pd\n",
    "import numpy as np\n",
    "import wget\n",
    "#import sh\n",
    "import simplejson as json"
   ]
  },
  {
   "cell_type": "code",
   "execution_count": null,
   "metadata": {
    "ExecuteTime": {
     "start_time": "2019-10-30T14:48:36.004Z"
    }
   },
   "outputs": [
    {
     "name": "stdout",
     "output_type": "stream",
     "text": [
      " 97% [...................................................................   ] 226099200 / 232750177"
     ]
    }
   ],
   "source": [
    "# Download the data\n",
    "wget.download(\"http://deepyeti.ucsd.edu/jianmo/amazon/categoryFiles/Musical_Instruments.json.gz\")\n",
    "wget.download(\"http://deepyeti.ucsd.edu/jianmo/amazon/metaFiles/meta_Musical_Instruments.json.gz\")"
   ]
  },
  {
   "cell_type": "code",
   "execution_count": 61,
   "metadata": {},
   "outputs": [],
   "source": [
    "# Unzip \n",
    "#sh.gunzip(\"Musical_Instruments.json.gz\")\n",
    "#sh.gunzip(\"meta_Musical_Instruments.json.gz\")"
   ]
  },
  {
   "cell_type": "code",
   "execution_count": 62,
   "metadata": {},
   "outputs": [],
   "source": [
    "# Normalize the data to create a .csv file\n",
    "#F1 = \"Musical_Instruments.json\"\n",
    "#DF1 = pd.io.json.json_normalize([json.loads(line) for line in open(F1)])\n",
    "\n",
    "#F2 = \"meta_Musical_Instruments.json\"\n",
    "#DF2 = pd.io.json.json_normalize([json.loads(line) for line in open(F2)])"
   ]
  },
  {
   "cell_type": "code",
   "execution_count": 63,
   "metadata": {},
   "outputs": [],
   "source": [
    "# Create the .csv file \n",
    "#DF1.to_csv(\"Musical_Instruments.csv\", index=False)\n",
    "#DF2.to_csv(\"meta_Musical_Instruments.csv\", index=False)"
   ]
  },
  {
   "cell_type": "code",
   "execution_count": 64,
   "metadata": {},
   "outputs": [],
   "source": [
    "# Reading the .csv file with pandas \n",
    "DF1 = pd.read_csv(\"Musical_Instruments.csv\")\n",
    "DF2 = pd.read_csv(\"meta_Musical_Instruments.csv\")"
   ]
  },
  {
   "cell_type": "code",
   "execution_count": 65,
   "metadata": {},
   "outputs": [],
   "source": [
    "# Merging the review data and meta data on 'asin'\n",
    "DF3 = pd.merge(DF1, DF2, how='inner', left_on='asin', right_on='asin')"
   ]
  },
  {
   "cell_type": "code",
   "execution_count": 66,
   "metadata": {},
   "outputs": [],
   "source": [
    "# Slicing the significant columns\n",
    "DF4 = DF3.loc[:, ['overall','verified', 'reviewTime', 'asin', 'summary', 'unixReviewTime', 'title', 'brand', 'rank', 'price', 'description']]"
   ]
  },
  {
   "cell_type": "code",
   "execution_count": 67,
   "metadata": {},
   "outputs": [],
   "source": [
    "# Converting the price column from string to float\n",
    "DF4 = DF4.dropna(subset = ['price']) # Drop the rows containing NaN values for price \n",
    "DF4 = DF4[~DF4['price'].str.contains('-')] # Drop the rows containing \"-\" values for price (e.g: \"123 - 158\")\n",
    "DF4['price'] = DF4['price'].str.replace(',', '') # Deleting \",\" for price (e.g: \"$1,538.34\")\n",
    "DF4['price'] = DF4['price'].str.replace('$', '').astype(float) # Deleting \"$\" for price (e.g: \" $1538.34\")"
   ]
  },
  {
   "cell_type": "code",
   "execution_count": 70,
   "metadata": {},
   "outputs": [],
   "source": [
    "# Loc the rows with price above $100\n",
    "DF4 = DF4.loc[(DF4['price'] > 100), :]"
   ]
  },
  {
   "cell_type": "code",
   "execution_count": 86,
   "metadata": {},
   "outputs": [],
   "source": [
    "# Intializing a groupby generator\n",
    "DF5 = DF4.groupby('asin', as_index=False)['overall'].agg(np.mean)"
   ]
  },
  {
   "cell_type": "code",
   "execution_count": null,
   "metadata": {},
   "outputs": [],
   "source": []
  }
 ],
 "metadata": {
  "kernelspec": {
   "display_name": "Python 3",
   "language": "python",
   "name": "python3"
  },
  "language_info": {
   "codemirror_mode": {
    "name": "ipython",
    "version": 3
   },
   "file_extension": ".py",
   "mimetype": "text/x-python",
   "name": "python",
   "nbconvert_exporter": "python",
   "pygments_lexer": "ipython3",
   "version": "3.7.3"
  },
  "toc": {
   "base_numbering": 1,
   "nav_menu": {},
   "number_sections": true,
   "sideBar": true,
   "skip_h1_title": false,
   "title_cell": "Table of Contents",
   "title_sidebar": "Contents",
   "toc_cell": false,
   "toc_position": {},
   "toc_section_display": true,
   "toc_window_display": false
  },
  "varInspector": {
   "cols": {
    "lenName": 16,
    "lenType": 16,
    "lenVar": 40
   },
   "kernels_config": {
    "python": {
     "delete_cmd_postfix": "",
     "delete_cmd_prefix": "del ",
     "library": "var_list.py",
     "varRefreshCmd": "print(var_dic_list())"
    },
    "r": {
     "delete_cmd_postfix": ") ",
     "delete_cmd_prefix": "rm(",
     "library": "var_list.r",
     "varRefreshCmd": "cat(var_dic_list()) "
    }
   },
   "types_to_exclude": [
    "module",
    "function",
    "builtin_function_or_method",
    "instance",
    "_Feature"
   ],
   "window_display": false
  }
 },
 "nbformat": 4,
 "nbformat_minor": 2
}
