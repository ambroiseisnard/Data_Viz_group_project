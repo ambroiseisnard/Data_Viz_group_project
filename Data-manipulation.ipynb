{
 "cells": [
  {
   "cell_type": "code",
   "execution_count": 1,
   "metadata": {
    "ExecuteTime": {
     "end_time": "2019-10-30T14:31:26.250951Z",
     "start_time": "2019-10-30T14:31:25.549392Z"
    }
   },
   "outputs": [],
   "source": [
    "# Set Up \n",
    "import pandas as pd\n",
    "import numpy as np\n",
    "import wget\n",
    "import sh\n",
    "import simplejson as json"
   ]
  },
  {
   "cell_type": "code",
   "execution_count": 2,
   "metadata": {
    "ExecuteTime": {
     "end_time": "2019-10-30T14:33:56.123356Z",
     "start_time": "2019-10-30T14:31:29.944524Z"
    }
   },
   "outputs": [
    {
     "data": {
      "text/plain": [
       "'meta_Musical_Instruments.json.gz'"
      ]
     },
     "execution_count": 2,
     "metadata": {},
     "output_type": "execute_result"
    }
   ],
   "source": [
    "# Download the data\n",
    "wget.download(\"http://deepyeti.ucsd.edu/jianmo/amazon/categoryFiles/Musical_Instruments.json.gz\")\n",
    "wget.download(\"http://deepyeti.ucsd.edu/jianmo/amazon/metaFiles/meta_Musical_Instruments.json.gz\")"
   ]
  },
  {
   "cell_type": "code",
   "execution_count": 3,
   "metadata": {
    "ExecuteTime": {
     "end_time": "2019-10-30T14:34:06.068706Z",
     "start_time": "2019-10-30T14:34:01.938373Z"
    }
   },
   "outputs": [
    {
     "data": {
      "text/plain": []
     },
     "execution_count": 3,
     "metadata": {},
     "output_type": "execute_result"
    }
   ],
   "source": [
    "# Unzip \n",
    "sh.gunzip(\"Musical_Instruments.json.gz\")\n",
    "sh.gunzip(\"meta_Musical_Instruments.json.gz\")"
   ]
  },
  {
   "cell_type": "code",
   "execution_count": 4,
   "metadata": {
    "ExecuteTime": {
     "end_time": "2019-10-30T14:35:33.040452Z",
     "start_time": "2019-10-30T14:34:11.391727Z"
    }
   },
   "outputs": [],
   "source": [
    "# Normalize the data to create a .csv file\n",
    "F1 = \"Musical_Instruments.json\"\n",
    "DF1 = pd.io.json.json_normalize([json.loads(line) for line in open(F1)])\n",
    "\n",
    "F2 = \"meta_Musical_Instruments.json\"\n",
    "DF2 = pd.io.json.json_normalize([json.loads(line) for line in open(F2)])"
   ]
  },
  {
   "cell_type": "code",
   "execution_count": 5,
   "metadata": {
    "ExecuteTime": {
     "end_time": "2019-10-30T14:36:16.194397Z",
     "start_time": "2019-10-30T14:35:39.743169Z"
    }
   },
   "outputs": [],
   "source": [
    "# Create the .csv file \n",
    "DF1.to_csv(\"Musical_Instruments.csv\", index=False)\n",
    "DF2.to_csv(\"meta_Musical_Instruments.csv\", index=False)"
   ]
  },
  {
   "cell_type": "code",
   "execution_count": 56,
   "metadata": {
    "ExecuteTime": {
     "end_time": "2019-10-30T14:55:22.812376Z",
     "start_time": "2019-10-30T14:54:49.819409Z"
    }
   },
   "outputs": [],
   "source": [
    "# Reading the .csv file with pandas \n",
    "DF1 = pd.read_csv(\"Musical_Instruments.csv\")\n",
    "DF2 = pd.read_csv(\"meta_Musical_Instruments.csv\")"
   ]
  },
  {
   "cell_type": "code",
   "execution_count": 57,
   "metadata": {
    "ExecuteTime": {
     "end_time": "2019-10-30T14:56:38.700223Z",
     "start_time": "2019-10-30T14:55:36.017887Z"
    }
   },
   "outputs": [],
   "source": [
    "# Merging the review data and meta data on 'asin'\n",
    "DF3 = pd.merge(DF1, DF2, how='inner', left_on='asin', right_on='asin')"
   ]
  },
  {
   "cell_type": "code",
   "execution_count": 58,
   "metadata": {
    "ExecuteTime": {
     "end_time": "2019-10-30T14:57:14.366454Z",
     "start_time": "2019-10-30T14:56:49.811711Z"
    }
   },
   "outputs": [],
   "source": [
    "# Slicing the significant columns\n",
    "DF4 = DF3.loc[:, ['overall','verified', 'reviewTime', 'asin', 'summary', 'unixReviewTime', 'title', 'brand', 'rank', 'price', 'description']]"
   ]
  },
  {
   "cell_type": "code",
   "execution_count": 59,
   "metadata": {
    "ExecuteTime": {
     "end_time": "2019-10-30T14:57:21.536271Z",
     "start_time": "2019-10-30T14:57:19.178422Z"
    }
   },
   "outputs": [],
   "source": [
    "# Converting the price column from string to float\n",
    "DF4 = DF4.dropna(subset = ['price']) # Drop the rows containing NaN values for price \n",
    "DF4 = DF4[~DF4['price'].str.contains('-')] # Drop the rows containing \"-\" values for price (e.g: \"123 - 158\")\n",
    "DF4['price'] = DF4['price'].str.replace(',', '') # Deleting \",\" for price (e.g: \"$1,538.34\")\n",
    "DF4['price'] = DF4['price'].str.replace('$', '').astype(float) # Deleting \"$\" for price (e.g: \" $1538.34\")"
   ]
  },
  {
   "cell_type": "code",
   "execution_count": 60,
   "metadata": {
    "ExecuteTime": {
     "end_time": "2019-10-30T14:57:26.061386Z",
     "start_time": "2019-10-30T14:57:25.966371Z"
    }
   },
   "outputs": [],
   "source": [
    "# Loc the rows with price above $100\n",
    "DF4 = DF4.loc[(DF4['price'] > 100), :]"
   ]
  },
  {
   "cell_type": "code",
   "execution_count": 61,
   "metadata": {
    "ExecuteTime": {
     "end_time": "2019-10-30T14:57:30.133737Z",
     "start_time": "2019-10-30T14:57:30.088580Z"
    }
   },
   "outputs": [],
   "source": [
    "DF4[['verified']] = DF4[['verified']].astype(str) "
   ]
  },
  {
   "cell_type": "code",
   "execution_count": 62,
   "metadata": {
    "ExecuteTime": {
     "end_time": "2019-10-30T14:57:34.129277Z",
     "start_time": "2019-10-30T14:57:34.016522Z"
    }
   },
   "outputs": [],
   "source": [
    "# Drop all rows containing False in 'verified'\n",
    "DF4 = DF4[~DF4['verified'].str.contains('False')] "
   ]
  },
  {
   "cell_type": "code",
   "execution_count": 63,
   "metadata": {
    "ExecuteTime": {
     "end_time": "2019-10-30T14:57:38.581548Z",
     "start_time": "2019-10-30T14:57:38.558646Z"
    }
   },
   "outputs": [
    {
     "data": {
      "text/plain": [
       "2298     11 8, 2011\n",
       "2301     07 6, 2010\n",
       "2302    09 21, 2016\n",
       "2303    09 10, 2016\n",
       "2304     09 4, 2016\n",
       "Name: reviewTime, dtype: object"
      ]
     },
     "execution_count": 63,
     "metadata": {},
     "output_type": "execute_result"
    }
   ],
   "source": [
    "DF4.head()['reviewTime']"
   ]
  },
  {
   "cell_type": "code",
   "execution_count": 71,
   "metadata": {
    "ExecuteTime": {
     "end_time": "2019-10-30T15:00:15.160649Z",
     "start_time": "2019-10-30T15:00:15.092724Z"
    }
   },
   "outputs": [],
   "source": [
    "# add a time stamp \n",
    "DF4.loc[:, \"timestamp\"] = pd.to_datetime(DF4[\"reviewTime\"],format=\"%m %d, %Y\")"
   ]
  },
  {
   "cell_type": "code",
   "execution_count": 65,
   "metadata": {
    "ExecuteTime": {
     "end_time": "2019-10-30T14:57:46.733469Z",
     "start_time": "2019-10-30T14:57:46.710804Z"
    }
   },
   "outputs": [
    {
     "data": {
      "text/html": [
       "<div>\n",
       "<style scoped>\n",
       "    .dataframe tbody tr th:only-of-type {\n",
       "        vertical-align: middle;\n",
       "    }\n",
       "\n",
       "    .dataframe tbody tr th {\n",
       "        vertical-align: top;\n",
       "    }\n",
       "\n",
       "    .dataframe thead th {\n",
       "        text-align: right;\n",
       "    }\n",
       "</style>\n",
       "<table border=\"1\" class=\"dataframe\">\n",
       "  <thead>\n",
       "    <tr style=\"text-align: right;\">\n",
       "      <th></th>\n",
       "      <th>reviewTime</th>\n",
       "      <th>timestamp</th>\n",
       "    </tr>\n",
       "  </thead>\n",
       "  <tbody>\n",
       "    <tr>\n",
       "      <td>2298</td>\n",
       "      <td>11 8, 2011</td>\n",
       "      <td>2011-11-08</td>\n",
       "    </tr>\n",
       "    <tr>\n",
       "      <td>2301</td>\n",
       "      <td>07 6, 2010</td>\n",
       "      <td>2010-07-06</td>\n",
       "    </tr>\n",
       "    <tr>\n",
       "      <td>2302</td>\n",
       "      <td>09 21, 2016</td>\n",
       "      <td>2016-09-21</td>\n",
       "    </tr>\n",
       "    <tr>\n",
       "      <td>2303</td>\n",
       "      <td>09 10, 2016</td>\n",
       "      <td>2016-09-10</td>\n",
       "    </tr>\n",
       "    <tr>\n",
       "      <td>2304</td>\n",
       "      <td>09 4, 2016</td>\n",
       "      <td>2016-09-04</td>\n",
       "    </tr>\n",
       "  </tbody>\n",
       "</table>\n",
       "</div>"
      ],
      "text/plain": [
       "       reviewTime  timestamp\n",
       "2298   11 8, 2011 2011-11-08\n",
       "2301   07 6, 2010 2010-07-06\n",
       "2302  09 21, 2016 2016-09-21\n",
       "2303  09 10, 2016 2016-09-10\n",
       "2304   09 4, 2016 2016-09-04"
      ]
     },
     "execution_count": 65,
     "metadata": {},
     "output_type": "execute_result"
    }
   ],
   "source": [
    "DF4.head()[[\"reviewTime\", \"timestamp\"]]"
   ]
  },
  {
   "cell_type": "code",
   "execution_count": 73,
   "metadata": {
    "ExecuteTime": {
     "end_time": "2019-10-30T15:00:24.946433Z",
     "start_time": "2019-10-30T15:00:24.913891Z"
    }
   },
   "outputs": [],
   "source": [
    "# create new columns for year, month and day\n",
    "DF4.loc[:, \"review_year\"] = DF4[\"timestamp\"].dt.year\n",
    "DF4.loc[:, \"review_month\"] = DF4[\"timestamp\"].dt.month\n",
    "DF4.loc[:, \"review_day\"] = DF4[\"timestamp\"].dt.day"
   ]
  },
  {
   "cell_type": "code",
   "execution_count": 75,
   "metadata": {
    "ExecuteTime": {
     "end_time": "2019-10-30T15:00:47.769582Z",
     "start_time": "2019-10-30T15:00:47.765219Z"
    }
   },
   "outputs": [],
   "source": [
    "# set timestamp as index\n",
    "DF4.set_index(\"timestamp\", inplace=True)"
   ]
  },
  {
   "cell_type": "code",
   "execution_count": 85,
   "metadata": {
    "ExecuteTime": {
     "end_time": "2019-10-30T15:15:57.264336Z",
     "start_time": "2019-10-30T15:15:57.227109Z"
    }
   },
   "outputs": [
    {
     "data": {
      "text/html": [
       "<div>\n",
       "<style scoped>\n",
       "    .dataframe tbody tr th:only-of-type {\n",
       "        vertical-align: middle;\n",
       "    }\n",
       "\n",
       "    .dataframe tbody tr th {\n",
       "        vertical-align: top;\n",
       "    }\n",
       "\n",
       "    .dataframe thead th {\n",
       "        text-align: right;\n",
       "    }\n",
       "</style>\n",
       "<table border=\"1\" class=\"dataframe\">\n",
       "  <thead>\n",
       "    <tr style=\"text-align: right;\">\n",
       "      <th>timestamp</th>\n",
       "      <th>2011-11-08</th>\n",
       "      <th>2010-07-06</th>\n",
       "      <th>2016-09-21</th>\n",
       "      <th>2016-09-10</th>\n",
       "      <th>2016-09-04</th>\n",
       "    </tr>\n",
       "  </thead>\n",
       "  <tbody>\n",
       "    <tr>\n",
       "      <td>overall</td>\n",
       "      <td>4</td>\n",
       "      <td>5</td>\n",
       "      <td>5</td>\n",
       "      <td>5</td>\n",
       "      <td>5</td>\n",
       "    </tr>\n",
       "    <tr>\n",
       "      <td>verified</td>\n",
       "      <td>True</td>\n",
       "      <td>True</td>\n",
       "      <td>True</td>\n",
       "      <td>True</td>\n",
       "      <td>True</td>\n",
       "    </tr>\n",
       "    <tr>\n",
       "      <td>reviewTime</td>\n",
       "      <td>11 8, 2011</td>\n",
       "      <td>07 6, 2010</td>\n",
       "      <td>09 21, 2016</td>\n",
       "      <td>09 10, 2016</td>\n",
       "      <td>09 4, 2016</td>\n",
       "    </tr>\n",
       "    <tr>\n",
       "      <td>asin</td>\n",
       "      <td>9792372326</td>\n",
       "      <td>9792372326</td>\n",
       "      <td>9792372326</td>\n",
       "      <td>9792372326</td>\n",
       "      <td>9792372326</td>\n",
       "    </tr>\n",
       "    <tr>\n",
       "      <td>summary</td>\n",
       "      <td>K10 vs Mackie SRM450v2 vs Klipsch bookshelf</td>\n",
       "      <td>The best powered speaker so far!</td>\n",
       "      <td>Five Stars</td>\n",
       "      <td>Very impressive</td>\n",
       "      <td>Five Stars</td>\n",
       "    </tr>\n",
       "    <tr>\n",
       "      <td>unixReviewTime</td>\n",
       "      <td>1320710400</td>\n",
       "      <td>1278374400</td>\n",
       "      <td>1474416000</td>\n",
       "      <td>1473465600</td>\n",
       "      <td>1472947200</td>\n",
       "    </tr>\n",
       "    <tr>\n",
       "      <td>title</td>\n",
       "      <td>QSC K10 2-Way Powered Speaker - 1000 Watts, 1x10\"</td>\n",
       "      <td>QSC K10 2-Way Powered Speaker - 1000 Watts, 1x10\"</td>\n",
       "      <td>QSC K10 2-Way Powered Speaker - 1000 Watts, 1x10\"</td>\n",
       "      <td>QSC K10 2-Way Powered Speaker - 1000 Watts, 1x10\"</td>\n",
       "      <td>QSC K10 2-Way Powered Speaker - 1000 Watts, 1x10\"</td>\n",
       "    </tr>\n",
       "    <tr>\n",
       "      <td>brand</td>\n",
       "      <td>QSC</td>\n",
       "      <td>QSC</td>\n",
       "      <td>QSC</td>\n",
       "      <td>QSC</td>\n",
       "      <td>QSC</td>\n",
       "    </tr>\n",
       "    <tr>\n",
       "      <td>rank</td>\n",
       "      <td>&gt;#66,697 in Musical Instruments (See Top 100 i...</td>\n",
       "      <td>&gt;#66,697 in Musical Instruments (See Top 100 i...</td>\n",
       "      <td>&gt;#66,697 in Musical Instruments (See Top 100 i...</td>\n",
       "      <td>&gt;#66,697 in Musical Instruments (See Top 100 i...</td>\n",
       "      <td>&gt;#66,697 in Musical Instruments (See Top 100 i...</td>\n",
       "    </tr>\n",
       "    <tr>\n",
       "      <td>price</td>\n",
       "      <td>125.99</td>\n",
       "      <td>125.99</td>\n",
       "      <td>125.99</td>\n",
       "      <td>125.99</td>\n",
       "      <td>125.99</td>\n",
       "    </tr>\n",
       "    <tr>\n",
       "      <td>description</td>\n",
       "      <td>['QSC K10 2-Way Powered Speaker - 1000 Watts, ...</td>\n",
       "      <td>['QSC K10 2-Way Powered Speaker - 1000 Watts, ...</td>\n",
       "      <td>['QSC K10 2-Way Powered Speaker - 1000 Watts, ...</td>\n",
       "      <td>['QSC K10 2-Way Powered Speaker - 1000 Watts, ...</td>\n",
       "      <td>['QSC K10 2-Way Powered Speaker - 1000 Watts, ...</td>\n",
       "    </tr>\n",
       "    <tr>\n",
       "      <td>review_year</td>\n",
       "      <td>2011</td>\n",
       "      <td>2010</td>\n",
       "      <td>2016</td>\n",
       "      <td>2016</td>\n",
       "      <td>2016</td>\n",
       "    </tr>\n",
       "    <tr>\n",
       "      <td>review_month</td>\n",
       "      <td>11</td>\n",
       "      <td>7</td>\n",
       "      <td>9</td>\n",
       "      <td>9</td>\n",
       "      <td>9</td>\n",
       "    </tr>\n",
       "    <tr>\n",
       "      <td>review_day</td>\n",
       "      <td>8</td>\n",
       "      <td>6</td>\n",
       "      <td>21</td>\n",
       "      <td>10</td>\n",
       "      <td>4</td>\n",
       "    </tr>\n",
       "  </tbody>\n",
       "</table>\n",
       "</div>"
      ],
      "text/plain": [
       "timestamp                                              2011-11-08  \\\n",
       "overall                                                         4   \n",
       "verified                                                     True   \n",
       "reviewTime                                             11 8, 2011   \n",
       "asin                                                   9792372326   \n",
       "summary               K10 vs Mackie SRM450v2 vs Klipsch bookshelf   \n",
       "unixReviewTime                                         1320710400   \n",
       "title           QSC K10 2-Way Powered Speaker - 1000 Watts, 1x10\"   \n",
       "brand                                                         QSC   \n",
       "rank            >#66,697 in Musical Instruments (See Top 100 i...   \n",
       "price                                                      125.99   \n",
       "description     ['QSC K10 2-Way Powered Speaker - 1000 Watts, ...   \n",
       "review_year                                                  2011   \n",
       "review_month                                                   11   \n",
       "review_day                                                      8   \n",
       "\n",
       "timestamp                                              2010-07-06  \\\n",
       "overall                                                         5   \n",
       "verified                                                     True   \n",
       "reviewTime                                             07 6, 2010   \n",
       "asin                                                   9792372326   \n",
       "summary                          The best powered speaker so far!   \n",
       "unixReviewTime                                         1278374400   \n",
       "title           QSC K10 2-Way Powered Speaker - 1000 Watts, 1x10\"   \n",
       "brand                                                         QSC   \n",
       "rank            >#66,697 in Musical Instruments (See Top 100 i...   \n",
       "price                                                      125.99   \n",
       "description     ['QSC K10 2-Way Powered Speaker - 1000 Watts, ...   \n",
       "review_year                                                  2010   \n",
       "review_month                                                    7   \n",
       "review_day                                                      6   \n",
       "\n",
       "timestamp                                              2016-09-21  \\\n",
       "overall                                                         5   \n",
       "verified                                                     True   \n",
       "reviewTime                                            09 21, 2016   \n",
       "asin                                                   9792372326   \n",
       "summary                                                Five Stars   \n",
       "unixReviewTime                                         1474416000   \n",
       "title           QSC K10 2-Way Powered Speaker - 1000 Watts, 1x10\"   \n",
       "brand                                                         QSC   \n",
       "rank            >#66,697 in Musical Instruments (See Top 100 i...   \n",
       "price                                                      125.99   \n",
       "description     ['QSC K10 2-Way Powered Speaker - 1000 Watts, ...   \n",
       "review_year                                                  2016   \n",
       "review_month                                                    9   \n",
       "review_day                                                     21   \n",
       "\n",
       "timestamp                                              2016-09-10  \\\n",
       "overall                                                         5   \n",
       "verified                                                     True   \n",
       "reviewTime                                            09 10, 2016   \n",
       "asin                                                   9792372326   \n",
       "summary                                           Very impressive   \n",
       "unixReviewTime                                         1473465600   \n",
       "title           QSC K10 2-Way Powered Speaker - 1000 Watts, 1x10\"   \n",
       "brand                                                         QSC   \n",
       "rank            >#66,697 in Musical Instruments (See Top 100 i...   \n",
       "price                                                      125.99   \n",
       "description     ['QSC K10 2-Way Powered Speaker - 1000 Watts, ...   \n",
       "review_year                                                  2016   \n",
       "review_month                                                    9   \n",
       "review_day                                                     10   \n",
       "\n",
       "timestamp                                              2016-09-04  \n",
       "overall                                                         5  \n",
       "verified                                                     True  \n",
       "reviewTime                                             09 4, 2016  \n",
       "asin                                                   9792372326  \n",
       "summary                                                Five Stars  \n",
       "unixReviewTime                                         1472947200  \n",
       "title           QSC K10 2-Way Powered Speaker - 1000 Watts, 1x10\"  \n",
       "brand                                                         QSC  \n",
       "rank            >#66,697 in Musical Instruments (See Top 100 i...  \n",
       "price                                                      125.99  \n",
       "description     ['QSC K10 2-Way Powered Speaker - 1000 Watts, ...  \n",
       "review_year                                                  2016  \n",
       "review_month                                                    9  \n",
       "review_day                                                      4  "
      ]
     },
     "execution_count": 85,
     "metadata": {},
     "output_type": "execute_result"
    }
   ],
   "source": [
    "DF4.head().T"
   ]
  },
  {
   "cell_type": "code",
   "execution_count": null,
   "metadata": {},
   "outputs": [],
   "source": []
  }
 ],
 "metadata": {
  "kernelspec": {
   "display_name": "Python 3",
   "language": "python",
   "name": "python3"
  },
  "language_info": {
   "codemirror_mode": {
    "name": "ipython",
    "version": 3
   },
   "file_extension": ".py",
   "mimetype": "text/x-python",
   "name": "python",
   "nbconvert_exporter": "python",
   "pygments_lexer": "ipython3",
   "version": "3.7.4"
  },
  "toc": {
   "base_numbering": 1,
   "nav_menu": {},
   "number_sections": true,
   "sideBar": true,
   "skip_h1_title": false,
   "title_cell": "Table of Contents",
   "title_sidebar": "Contents",
   "toc_cell": false,
   "toc_position": {},
   "toc_section_display": true,
   "toc_window_display": false
  },
  "varInspector": {
   "cols": {
    "lenName": 16,
    "lenType": 16,
    "lenVar": 40
   },
   "kernels_config": {
    "python": {
     "delete_cmd_postfix": "",
     "delete_cmd_prefix": "del ",
     "library": "var_list.py",
     "varRefreshCmd": "print(var_dic_list())"
    },
    "r": {
     "delete_cmd_postfix": ") ",
     "delete_cmd_prefix": "rm(",
     "library": "var_list.r",
     "varRefreshCmd": "cat(var_dic_list()) "
    }
   },
   "types_to_exclude": [
    "module",
    "function",
    "builtin_function_or_method",
    "instance",
    "_Feature"
   ],
   "window_display": false
  }
 },
 "nbformat": 4,
 "nbformat_minor": 2
}
